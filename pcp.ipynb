{
 "cells": [
  {
   "cell_type": "markdown",
   "metadata": {},
   "source": [
    "#### DEMONSTRAÇÃO DA PREVISÃO DE DEMANDA DE VENDAS BASEADAS EM DADOS HISTÓRICOS COM REDES NEURAIS RECORRENTES DE MULTIPLAS CAMADAS E APERFEIÇOAMENTO DOS HIPERPARAMÊTROS DO MODELO POR MEIO DE ALGORITMOS GENÉTICOS\n",
    "#### FORAM ANALISADAS APENAS ORDENS EFETIVAMENTE ENVIADAS"
   ]
  },
  {
   "cell_type": "markdown",
   "metadata": {},
   "source": [
    "### Preludio"
   ]
  },
  {
   "cell_type": "code",
   "execution_count": 47,
   "metadata": {},
   "outputs": [],
   "source": [
    "#bibliotecas basicas\n",
    "import pandas as pd\n",
    "import numpy as np\n",
    "import tensorflow.compat.v1 as v1\n",
    "\n",
    "#geração de gráficos\n",
    "import matplotlib.pyplot as plt\n",
    "\n",
    "#bibliotecas para o aprendizado de maquina\n",
    "from sklearn.preprocessing import StandardScaler, MinMaxScaler\n",
    "from sklearn.model_selection import train_test_split\n",
    "from sklearn.metrics import r2_score\n",
    "from sklearn.linear_model import SGDRegressor\n",
    "from sklearn.neural_network import MLPRegressor\n"
   ]
  },
  {
   "cell_type": "markdown",
   "metadata": {},
   "source": [
    "### Pré Processamento"
   ]
  },
  {
   "cell_type": "code",
   "execution_count": null,
   "metadata": {},
   "outputs": [],
   "source": [
    "### Carregamento e pre processamento da base de dados"
   ]
  },
  {
   "cell_type": "code",
   "execution_count": 48,
   "metadata": {},
   "outputs": [],
   "source": [
    "dataset = pd.read_csv('./archive/sales_data_sample.csv', engine='python')\n",
    "dataset.drop(['ORDERNUMBER', 'CONTACTFIRSTNAME', 'CONTACTLASTNAME', 'COUNTRY',\n",
    "              'TERRITORY', 'STATE', 'POSTALCODE', 'CITY',\n",
    "              'ADDRESSLINE2', 'ADDRESSLINE1', 'PHONE', 'CUSTOMERNAME',\n",
    "              'ORDERLINENUMBER'], axis=1, inplace=True)\n",
    "dataset_remove = dataset.loc[(dataset['STATUS'] != 'Shipped')]\n",
    "dataset.drop(dataset_remove.index, inplace=True)\n",
    "dataset['ORDERDATE']= pd.Index(pd.to_datetime(dataset['ORDERDATE'])) \n",
    "dataset['DEALSIZE'] = dataset['DEALSIZE'].replace(['Small'], int(0))    \n",
    "dataset['DEALSIZE'] = dataset['DEALSIZE'].replace(['Medium'], int(1))    \n",
    "dataset['DEALSIZE'] = dataset['DEALSIZE'].replace(['Large'], int(2))   \n",
    "\n",
    "dataset['PRODUCTLINE'] = dataset['PRODUCTLINE'].replace(['Motorcycles'], int(0))    \n",
    "dataset['PRODUCTLINE'] = dataset['PRODUCTLINE'].replace(['Classic Cars'], int(1))\n",
    "dataset['PRODUCTLINE'] = dataset['PRODUCTLINE'].replace(['Trucks and Buses'], int(2))\n",
    "dataset['PRODUCTLINE'] = dataset['PRODUCTLINE'].replace(['Vintage Cars'], int(3))\n",
    "dataset['PRODUCTLINE'] = dataset['PRODUCTLINE'].replace(['Planes'], int(4))\n",
    "dataset['PRODUCTLINE'] = dataset['PRODUCTLINE'].replace(['Ships'], int(5))\n",
    "dataset['PRODUCTLINE'] = dataset['PRODUCTLINE'].replace(['Trains'], int(6))\n"
   ]
  },
  {
   "cell_type": "code",
   "execution_count": null,
   "metadata": {},
   "outputs": [],
   "source": [
    "### Analise de algumas correlações"
   ]
  },
  {
   "cell_type": "code",
   "execution_count": 49,
   "metadata": {},
   "outputs": [
    {
     "name": "stdout",
     "output_type": "stream",
     "text": [
      "('correlação forte', 0.7546110229287264)\n",
      "('correlação forte', 0.7939684322976108)\n",
      "('correlação forte', 0.8876511192844363)\n",
      "('correlação desprezivel', -0.15912742460411147)\n",
      "('correlação desprezivel', -0.14951747732890852)\n"
     ]
    }
   ],
   "source": [
    "def correlacao(correlacao):\n",
    "    if 0 < correlacao < 0.3 or -0.3 < correlacao < 0:\n",
    "        return ('correlação desprezivel', correlacao)\n",
    "    if 0.3 < correlacao < 0.5 or -0.5 < correlacao < -0.3:\n",
    "        return ('correlação fraca', correlacao)\n",
    "    if 0.5 < correlacao < 0.7 or -0.7 < correlacao < -0.5:\n",
    "        return ('correlação moderada', correlacao)\n",
    "    if 0.7 < correlacao < 0.9 or -0.9 < correlacao < -0.7:\n",
    "        return ('correlação forte', correlacao)\n",
    "    if 0.9 < correlacao < 1 or -1 < correlacao < -0.9:\n",
    "        return ('correlação muito forte', correlacao)\n",
    "                \n",
    "correlacoes = [dataset['PRICEEACH'].corr(dataset['MSRP'], method='spearman'), \n",
    "                    dataset['PRICEEACH'].corr(dataset['SALES'], method='spearman'), \n",
    "                    dataset['DEALSIZE'].astype(int).corr(dataset['SALES'].astype(int), method='spearman'),\n",
    "                    dataset['PRODUCTLINE'].astype(int).corr(dataset['SALES'].astype(int), method='spearman'),\n",
    "                    dataset['PRODUCTLINE'].astype(int).corr(dataset['PRICEEACH'].astype(int), method='spearman')]\n",
    "                \n",
    "for corr in correlacoes:\n",
    "    print(correlacao(corr))"
   ]
  },
  {
   "cell_type": "code",
   "execution_count": null,
   "metadata": {},
   "outputs": [],
   "source": [
    "### Analise de todas variações "
   ]
  },
  {
   "cell_type": "code",
   "execution_count": 50,
   "metadata": {},
   "outputs": [
    {
     "data": {
      "text/html": [
       "<style  type=\"text/css\" >\n",
       "#T_dc6fb820_3a95_11eb_b8be_5d019a3cd66brow0_col0,#T_dc6fb820_3a95_11eb_b8be_5d019a3cd66brow1_col1,#T_dc6fb820_3a95_11eb_b8be_5d019a3cd66brow2_col2,#T_dc6fb820_3a95_11eb_b8be_5d019a3cd66brow3_col3,#T_dc6fb820_3a95_11eb_b8be_5d019a3cd66brow4_col4,#T_dc6fb820_3a95_11eb_b8be_5d019a3cd66brow5_col5,#T_dc6fb820_3a95_11eb_b8be_5d019a3cd66brow6_col6,#T_dc6fb820_3a95_11eb_b8be_5d019a3cd66brow7_col7,#T_dc6fb820_3a95_11eb_b8be_5d019a3cd66brow8_col8{\n",
       "            background-color:  #b40426;\n",
       "            color:  #f1f1f1;\n",
       "        }#T_dc6fb820_3a95_11eb_b8be_5d019a3cd66brow0_col1{\n",
       "            background-color:  #4055c8;\n",
       "            color:  #f1f1f1;\n",
       "        }#T_dc6fb820_3a95_11eb_b8be_5d019a3cd66brow0_col2{\n",
       "            background-color:  #e5d8d1;\n",
       "            color:  #000000;\n",
       "        }#T_dc6fb820_3a95_11eb_b8be_5d019a3cd66brow0_col3,#T_dc6fb820_3a95_11eb_b8be_5d019a3cd66brow0_col4,#T_dc6fb820_3a95_11eb_b8be_5d019a3cd66brow1_col6,#T_dc6fb820_3a95_11eb_b8be_5d019a3cd66brow2_col6,#T_dc6fb820_3a95_11eb_b8be_5d019a3cd66brow3_col5,#T_dc6fb820_3a95_11eb_b8be_5d019a3cd66brow4_col5,#T_dc6fb820_3a95_11eb_b8be_5d019a3cd66brow5_col3,#T_dc6fb820_3a95_11eb_b8be_5d019a3cd66brow6_col7,#T_dc6fb820_3a95_11eb_b8be_5d019a3cd66brow7_col6,#T_dc6fb820_3a95_11eb_b8be_5d019a3cd66brow8_col6{\n",
       "            background-color:  #3b4cc0;\n",
       "            color:  #f1f1f1;\n",
       "        }#T_dc6fb820_3a95_11eb_b8be_5d019a3cd66brow0_col5{\n",
       "            background-color:  #4961d2;\n",
       "            color:  #f1f1f1;\n",
       "        }#T_dc6fb820_3a95_11eb_b8be_5d019a3cd66brow0_col6{\n",
       "            background-color:  #3e51c5;\n",
       "            color:  #f1f1f1;\n",
       "        }#T_dc6fb820_3a95_11eb_b8be_5d019a3cd66brow0_col7{\n",
       "            background-color:  #455cce;\n",
       "            color:  #f1f1f1;\n",
       "        }#T_dc6fb820_3a95_11eb_b8be_5d019a3cd66brow0_col8{\n",
       "            background-color:  #d3dbe7;\n",
       "            color:  #000000;\n",
       "        }#T_dc6fb820_3a95_11eb_b8be_5d019a3cd66brow1_col0,#T_dc6fb820_3a95_11eb_b8be_5d019a3cd66brow1_col4,#T_dc6fb820_3a95_11eb_b8be_5d019a3cd66brow1_col5,#T_dc6fb820_3a95_11eb_b8be_5d019a3cd66brow8_col4{\n",
       "            background-color:  #6384eb;\n",
       "            color:  #000000;\n",
       "        }#T_dc6fb820_3a95_11eb_b8be_5d019a3cd66brow1_col2,#T_dc6fb820_3a95_11eb_b8be_5d019a3cd66brow2_col1{\n",
       "            background-color:  #e97a5f;\n",
       "            color:  #000000;\n",
       "        }#T_dc6fb820_3a95_11eb_b8be_5d019a3cd66brow1_col3,#T_dc6fb820_3a95_11eb_b8be_5d019a3cd66brow2_col3,#T_dc6fb820_3a95_11eb_b8be_5d019a3cd66brow2_col4{\n",
       "            background-color:  #6485ec;\n",
       "            color:  #000000;\n",
       "        }#T_dc6fb820_3a95_11eb_b8be_5d019a3cd66brow1_col7{\n",
       "            background-color:  #f08a6c;\n",
       "            color:  #000000;\n",
       "        }#T_dc6fb820_3a95_11eb_b8be_5d019a3cd66brow1_col8,#T_dc6fb820_3a95_11eb_b8be_5d019a3cd66brow8_col1{\n",
       "            background-color:  #f6a283;\n",
       "            color:  #000000;\n",
       "        }#T_dc6fb820_3a95_11eb_b8be_5d019a3cd66brow2_col0{\n",
       "            background-color:  #f1cdba;\n",
       "            color:  #000000;\n",
       "        }#T_dc6fb820_3a95_11eb_b8be_5d019a3cd66brow2_col5{\n",
       "            background-color:  #688aef;\n",
       "            color:  #000000;\n",
       "        }#T_dc6fb820_3a95_11eb_b8be_5d019a3cd66brow2_col7{\n",
       "            background-color:  #f7a688;\n",
       "            color:  #000000;\n",
       "        }#T_dc6fb820_3a95_11eb_b8be_5d019a3cd66brow2_col8,#T_dc6fb820_3a95_11eb_b8be_5d019a3cd66brow8_col2{\n",
       "            background-color:  #d55042;\n",
       "            color:  #000000;\n",
       "        }#T_dc6fb820_3a95_11eb_b8be_5d019a3cd66brow3_col0{\n",
       "            background-color:  #8caffe;\n",
       "            color:  #000000;\n",
       "        }#T_dc6fb820_3a95_11eb_b8be_5d019a3cd66brow3_col1,#T_dc6fb820_3a95_11eb_b8be_5d019a3cd66brow3_col7{\n",
       "            background-color:  #93b5fe;\n",
       "            color:  #000000;\n",
       "        }#T_dc6fb820_3a95_11eb_b8be_5d019a3cd66brow3_col2,#T_dc6fb820_3a95_11eb_b8be_5d019a3cd66brow5_col1,#T_dc6fb820_3a95_11eb_b8be_5d019a3cd66brow5_col6{\n",
       "            background-color:  #92b4fe;\n",
       "            color:  #000000;\n",
       "        }#T_dc6fb820_3a95_11eb_b8be_5d019a3cd66brow3_col4,#T_dc6fb820_3a95_11eb_b8be_5d019a3cd66brow4_col3{\n",
       "            background-color:  #be242e;\n",
       "            color:  #f1f1f1;\n",
       "        }#T_dc6fb820_3a95_11eb_b8be_5d019a3cd66brow3_col6,#T_dc6fb820_3a95_11eb_b8be_5d019a3cd66brow4_col6{\n",
       "            background-color:  #8db0fe;\n",
       "            color:  #000000;\n",
       "        }#T_dc6fb820_3a95_11eb_b8be_5d019a3cd66brow3_col8,#T_dc6fb820_3a95_11eb_b8be_5d019a3cd66brow4_col1,#T_dc6fb820_3a95_11eb_b8be_5d019a3cd66brow5_col7,#T_dc6fb820_3a95_11eb_b8be_5d019a3cd66brow5_col8{\n",
       "            background-color:  #90b2fe;\n",
       "            color:  #000000;\n",
       "        }#T_dc6fb820_3a95_11eb_b8be_5d019a3cd66brow4_col0{\n",
       "            background-color:  #8badfd;\n",
       "            color:  #000000;\n",
       "        }#T_dc6fb820_3a95_11eb_b8be_5d019a3cd66brow4_col2,#T_dc6fb820_3a95_11eb_b8be_5d019a3cd66brow4_col7,#T_dc6fb820_3a95_11eb_b8be_5d019a3cd66brow4_col8{\n",
       "            background-color:  #8fb1fe;\n",
       "            color:  #000000;\n",
       "        }#T_dc6fb820_3a95_11eb_b8be_5d019a3cd66brow5_col0{\n",
       "            background-color:  #98b9ff;\n",
       "            color:  #000000;\n",
       "        }#T_dc6fb820_3a95_11eb_b8be_5d019a3cd66brow5_col2{\n",
       "            background-color:  #94b6ff;\n",
       "            color:  #000000;\n",
       "        }#T_dc6fb820_3a95_11eb_b8be_5d019a3cd66brow5_col4{\n",
       "            background-color:  #3d50c3;\n",
       "            color:  #f1f1f1;\n",
       "        }#T_dc6fb820_3a95_11eb_b8be_5d019a3cd66brow6_col0,#T_dc6fb820_3a95_11eb_b8be_5d019a3cd66brow6_col4,#T_dc6fb820_3a95_11eb_b8be_5d019a3cd66brow7_col5{\n",
       "            background-color:  #799cf8;\n",
       "            color:  #000000;\n",
       "        }#T_dc6fb820_3a95_11eb_b8be_5d019a3cd66brow6_col1{\n",
       "            background-color:  #536edd;\n",
       "            color:  #000000;\n",
       "        }#T_dc6fb820_3a95_11eb_b8be_5d019a3cd66brow6_col2{\n",
       "            background-color:  #506bda;\n",
       "            color:  #000000;\n",
       "        }#T_dc6fb820_3a95_11eb_b8be_5d019a3cd66brow6_col3{\n",
       "            background-color:  #7699f6;\n",
       "            color:  #000000;\n",
       "        }#T_dc6fb820_3a95_11eb_b8be_5d019a3cd66brow6_col5,#T_dc6fb820_3a95_11eb_b8be_5d019a3cd66brow7_col4{\n",
       "            background-color:  #7a9df8;\n",
       "            color:  #000000;\n",
       "        }#T_dc6fb820_3a95_11eb_b8be_5d019a3cd66brow6_col8{\n",
       "            background-color:  #516ddb;\n",
       "            color:  #000000;\n",
       "        }#T_dc6fb820_3a95_11eb_b8be_5d019a3cd66brow7_col0{\n",
       "            background-color:  #80a3fa;\n",
       "            color:  #000000;\n",
       "        }#T_dc6fb820_3a95_11eb_b8be_5d019a3cd66brow7_col1{\n",
       "            background-color:  #ed8366;\n",
       "            color:  #000000;\n",
       "        }#T_dc6fb820_3a95_11eb_b8be_5d019a3cd66brow7_col2{\n",
       "            background-color:  #f59f80;\n",
       "            color:  #000000;\n",
       "        }#T_dc6fb820_3a95_11eb_b8be_5d019a3cd66brow7_col3{\n",
       "            background-color:  #7b9ff9;\n",
       "            color:  #000000;\n",
       "        }#T_dc6fb820_3a95_11eb_b8be_5d019a3cd66brow7_col8{\n",
       "            background-color:  #f7b599;\n",
       "            color:  #000000;\n",
       "        }#T_dc6fb820_3a95_11eb_b8be_5d019a3cd66brow8_col0{\n",
       "            background-color:  #e3d9d3;\n",
       "            color:  #000000;\n",
       "        }#T_dc6fb820_3a95_11eb_b8be_5d019a3cd66brow8_col3,#T_dc6fb820_3a95_11eb_b8be_5d019a3cd66brow8_col5{\n",
       "            background-color:  #6282ea;\n",
       "            color:  #000000;\n",
       "        }#T_dc6fb820_3a95_11eb_b8be_5d019a3cd66brow8_col7{\n",
       "            background-color:  #f6bea4;\n",
       "            color:  #000000;\n",
       "        }</style><table id=\"T_dc6fb820_3a95_11eb_b8be_5d019a3cd66b\" ><thead>    <tr>        <th class=\"blank level0\" ></th>        <th class=\"col_heading level0 col0\" >QUANTITYORDERED</th>        <th class=\"col_heading level0 col1\" >PRICEEACH</th>        <th class=\"col_heading level0 col2\" >SALES</th>        <th class=\"col_heading level0 col3\" >QTR_ID</th>        <th class=\"col_heading level0 col4\" >MONTH_ID</th>        <th class=\"col_heading level0 col5\" >YEAR_ID</th>        <th class=\"col_heading level0 col6\" >PRODUCTLINE</th>        <th class=\"col_heading level0 col7\" >MSRP</th>        <th class=\"col_heading level0 col8\" >DEALSIZE</th>    </tr></thead><tbody>\n",
       "                <tr>\n",
       "                        <th id=\"T_dc6fb820_3a95_11eb_b8be_5d019a3cd66blevel0_row0\" class=\"row_heading level0 row0\" >QUANTITYORDERED</th>\n",
       "                        <td id=\"T_dc6fb820_3a95_11eb_b8be_5d019a3cd66brow0_col0\" class=\"data row0 col0\" >1.0</td>\n",
       "                        <td id=\"T_dc6fb820_3a95_11eb_b8be_5d019a3cd66brow0_col1\" class=\"data row0 col1\" >0.0019</td>\n",
       "                        <td id=\"T_dc6fb820_3a95_11eb_b8be_5d019a3cd66brow0_col2\" class=\"data row0 col2\" >0.53</td>\n",
       "                        <td id=\"T_dc6fb820_3a95_11eb_b8be_5d019a3cd66brow0_col3\" class=\"data row0 col3\" >-0.02</td>\n",
       "                        <td id=\"T_dc6fb820_3a95_11eb_b8be_5d019a3cd66brow0_col4\" class=\"data row0 col4\" >-0.017</td>\n",
       "                        <td id=\"T_dc6fb820_3a95_11eb_b8be_5d019a3cd66brow0_col5\" class=\"data row0 col5\" >0.029</td>\n",
       "                        <td id=\"T_dc6fb820_3a95_11eb_b8be_5d019a3cd66brow0_col6\" class=\"data row0 col6\" >-0.0056</td>\n",
       "                        <td id=\"T_dc6fb820_3a95_11eb_b8be_5d019a3cd66brow0_col7\" class=\"data row0 col7\" >0.018</td>\n",
       "                        <td id=\"T_dc6fb820_3a95_11eb_b8be_5d019a3cd66brow0_col8\" class=\"data row0 col8\" >0.45</td>\n",
       "            </tr>\n",
       "            <tr>\n",
       "                        <th id=\"T_dc6fb820_3a95_11eb_b8be_5d019a3cd66blevel0_row1\" class=\"row_heading level0 row1\" >PRICEEACH</th>\n",
       "                        <td id=\"T_dc6fb820_3a95_11eb_b8be_5d019a3cd66brow1_col0\" class=\"data row1 col0\" >0.0019</td>\n",
       "                        <td id=\"T_dc6fb820_3a95_11eb_b8be_5d019a3cd66brow1_col1\" class=\"data row1 col1\" >1.0</td>\n",
       "                        <td id=\"T_dc6fb820_3a95_11eb_b8be_5d019a3cd66brow1_col2\" class=\"data row1 col2\" >0.79</td>\n",
       "                        <td id=\"T_dc6fb820_3a95_11eb_b8be_5d019a3cd66brow1_col3\" class=\"data row1 col3\" >0.0052</td>\n",
       "                        <td id=\"T_dc6fb820_3a95_11eb_b8be_5d019a3cd66brow1_col4\" class=\"data row1 col4\" >0.0017</td>\n",
       "                        <td id=\"T_dc6fb820_3a95_11eb_b8be_5d019a3cd66brow1_col5\" class=\"data row1 col5\" >0.00073</td>\n",
       "                        <td id=\"T_dc6fb820_3a95_11eb_b8be_5d019a3cd66brow1_col6\" class=\"data row1 col6\" >-0.15</td>\n",
       "                        <td id=\"T_dc6fb820_3a95_11eb_b8be_5d019a3cd66brow1_col7\" class=\"data row1 col7\" >0.75</td>\n",
       "                        <td id=\"T_dc6fb820_3a95_11eb_b8be_5d019a3cd66brow1_col8\" class=\"data row1 col8\" >0.69</td>\n",
       "            </tr>\n",
       "            <tr>\n",
       "                        <th id=\"T_dc6fb820_3a95_11eb_b8be_5d019a3cd66blevel0_row2\" class=\"row_heading level0 row2\" >SALES</th>\n",
       "                        <td id=\"T_dc6fb820_3a95_11eb_b8be_5d019a3cd66brow2_col0\" class=\"data row2 col0\" >0.53</td>\n",
       "                        <td id=\"T_dc6fb820_3a95_11eb_b8be_5d019a3cd66brow2_col1\" class=\"data row2 col1\" >0.79</td>\n",
       "                        <td id=\"T_dc6fb820_3a95_11eb_b8be_5d019a3cd66brow2_col2\" class=\"data row2 col2\" >1.0</td>\n",
       "                        <td id=\"T_dc6fb820_3a95_11eb_b8be_5d019a3cd66brow2_col3\" class=\"data row2 col3\" >-0.0012</td>\n",
       "                        <td id=\"T_dc6fb820_3a95_11eb_b8be_5d019a3cd66brow2_col4\" class=\"data row2 col4\" >-0.0017</td>\n",
       "                        <td id=\"T_dc6fb820_3a95_11eb_b8be_5d019a3cd66brow2_col5\" class=\"data row2 col5\" >0.013</td>\n",
       "                        <td id=\"T_dc6fb820_3a95_11eb_b8be_5d019a3cd66brow2_col6\" class=\"data row2 col6\" >-0.16</td>\n",
       "                        <td id=\"T_dc6fb820_3a95_11eb_b8be_5d019a3cd66brow2_col7\" class=\"data row2 col7\" >0.67</td>\n",
       "                        <td id=\"T_dc6fb820_3a95_11eb_b8be_5d019a3cd66brow2_col8\" class=\"data row2 col8\" >0.89</td>\n",
       "            </tr>\n",
       "            <tr>\n",
       "                        <th id=\"T_dc6fb820_3a95_11eb_b8be_5d019a3cd66blevel0_row3\" class=\"row_heading level0 row3\" >QTR_ID</th>\n",
       "                        <td id=\"T_dc6fb820_3a95_11eb_b8be_5d019a3cd66brow3_col0\" class=\"data row3 col0\" >-0.02</td>\n",
       "                        <td id=\"T_dc6fb820_3a95_11eb_b8be_5d019a3cd66brow3_col1\" class=\"data row3 col1\" >0.0052</td>\n",
       "                        <td id=\"T_dc6fb820_3a95_11eb_b8be_5d019a3cd66brow3_col2\" class=\"data row3 col2\" >-0.0012</td>\n",
       "                        <td id=\"T_dc6fb820_3a95_11eb_b8be_5d019a3cd66brow3_col3\" class=\"data row3 col3\" >1.0</td>\n",
       "                        <td id=\"T_dc6fb820_3a95_11eb_b8be_5d019a3cd66brow3_col4\" class=\"data row3 col4\" >0.96</td>\n",
       "                        <td id=\"T_dc6fb820_3a95_11eb_b8be_5d019a3cd66brow3_col5\" class=\"data row3 col5\" >-0.36</td>\n",
       "                        <td id=\"T_dc6fb820_3a95_11eb_b8be_5d019a3cd66brow3_col6\" class=\"data row3 col6\" >-0.015</td>\n",
       "                        <td id=\"T_dc6fb820_3a95_11eb_b8be_5d019a3cd66brow3_col7\" class=\"data row3 col7\" >0.0035</td>\n",
       "                        <td id=\"T_dc6fb820_3a95_11eb_b8be_5d019a3cd66brow3_col8\" class=\"data row3 col8\" >-0.0056</td>\n",
       "            </tr>\n",
       "            <tr>\n",
       "                        <th id=\"T_dc6fb820_3a95_11eb_b8be_5d019a3cd66blevel0_row4\" class=\"row_heading level0 row4\" >MONTH_ID</th>\n",
       "                        <td id=\"T_dc6fb820_3a95_11eb_b8be_5d019a3cd66brow4_col0\" class=\"data row4 col0\" >-0.017</td>\n",
       "                        <td id=\"T_dc6fb820_3a95_11eb_b8be_5d019a3cd66brow4_col1\" class=\"data row4 col1\" >0.0017</td>\n",
       "                        <td id=\"T_dc6fb820_3a95_11eb_b8be_5d019a3cd66brow4_col2\" class=\"data row4 col2\" >-0.0017</td>\n",
       "                        <td id=\"T_dc6fb820_3a95_11eb_b8be_5d019a3cd66brow4_col3\" class=\"data row4 col3\" >0.96</td>\n",
       "                        <td id=\"T_dc6fb820_3a95_11eb_b8be_5d019a3cd66brow4_col4\" class=\"data row4 col4\" >1.0</td>\n",
       "                        <td id=\"T_dc6fb820_3a95_11eb_b8be_5d019a3cd66brow4_col5\" class=\"data row4 col5\" >-0.35</td>\n",
       "                        <td id=\"T_dc6fb820_3a95_11eb_b8be_5d019a3cd66brow4_col6\" class=\"data row4 col6\" >-0.006</td>\n",
       "                        <td id=\"T_dc6fb820_3a95_11eb_b8be_5d019a3cd66brow4_col7\" class=\"data row4 col7\" >0.00061</td>\n",
       "                        <td id=\"T_dc6fb820_3a95_11eb_b8be_5d019a3cd66brow4_col8\" class=\"data row4 col8\" >-0.0046</td>\n",
       "            </tr>\n",
       "            <tr>\n",
       "                        <th id=\"T_dc6fb820_3a95_11eb_b8be_5d019a3cd66blevel0_row5\" class=\"row_heading level0 row5\" >YEAR_ID</th>\n",
       "                        <td id=\"T_dc6fb820_3a95_11eb_b8be_5d019a3cd66brow5_col0\" class=\"data row5 col0\" >0.029</td>\n",
       "                        <td id=\"T_dc6fb820_3a95_11eb_b8be_5d019a3cd66brow5_col1\" class=\"data row5 col1\" >0.00073</td>\n",
       "                        <td id=\"T_dc6fb820_3a95_11eb_b8be_5d019a3cd66brow5_col2\" class=\"data row5 col2\" >0.013</td>\n",
       "                        <td id=\"T_dc6fb820_3a95_11eb_b8be_5d019a3cd66brow5_col3\" class=\"data row5 col3\" >-0.36</td>\n",
       "                        <td id=\"T_dc6fb820_3a95_11eb_b8be_5d019a3cd66brow5_col4\" class=\"data row5 col4\" >-0.35</td>\n",
       "                        <td id=\"T_dc6fb820_3a95_11eb_b8be_5d019a3cd66brow5_col5\" class=\"data row5 col5\" >1.0</td>\n",
       "                        <td id=\"T_dc6fb820_3a95_11eb_b8be_5d019a3cd66brow5_col6\" class=\"data row5 col6\" >0.00023</td>\n",
       "                        <td id=\"T_dc6fb820_3a95_11eb_b8be_5d019a3cd66brow5_col7\" class=\"data row5 col7\" >-0.0073</td>\n",
       "                        <td id=\"T_dc6fb820_3a95_11eb_b8be_5d019a3cd66brow5_col8\" class=\"data row5 col8\" >-0.005</td>\n",
       "            </tr>\n",
       "            <tr>\n",
       "                        <th id=\"T_dc6fb820_3a95_11eb_b8be_5d019a3cd66blevel0_row6\" class=\"row_heading level0 row6\" >PRODUCTLINE</th>\n",
       "                        <td id=\"T_dc6fb820_3a95_11eb_b8be_5d019a3cd66brow6_col0\" class=\"data row6 col0\" >-0.0056</td>\n",
       "                        <td id=\"T_dc6fb820_3a95_11eb_b8be_5d019a3cd66brow6_col1\" class=\"data row6 col1\" >-0.15</td>\n",
       "                        <td id=\"T_dc6fb820_3a95_11eb_b8be_5d019a3cd66brow6_col2\" class=\"data row6 col2\" >-0.16</td>\n",
       "                        <td id=\"T_dc6fb820_3a95_11eb_b8be_5d019a3cd66brow6_col3\" class=\"data row6 col3\" >-0.015</td>\n",
       "                        <td id=\"T_dc6fb820_3a95_11eb_b8be_5d019a3cd66brow6_col4\" class=\"data row6 col4\" >-0.006</td>\n",
       "                        <td id=\"T_dc6fb820_3a95_11eb_b8be_5d019a3cd66brow6_col5\" class=\"data row6 col5\" >0.00023</td>\n",
       "                        <td id=\"T_dc6fb820_3a95_11eb_b8be_5d019a3cd66brow6_col6\" class=\"data row6 col6\" >1.0</td>\n",
       "                        <td id=\"T_dc6fb820_3a95_11eb_b8be_5d019a3cd66brow6_col7\" class=\"data row6 col7\" >-0.25</td>\n",
       "                        <td id=\"T_dc6fb820_3a95_11eb_b8be_5d019a3cd66brow6_col8\" class=\"data row6 col8\" >-0.15</td>\n",
       "            </tr>\n",
       "            <tr>\n",
       "                        <th id=\"T_dc6fb820_3a95_11eb_b8be_5d019a3cd66blevel0_row7\" class=\"row_heading level0 row7\" >MSRP</th>\n",
       "                        <td id=\"T_dc6fb820_3a95_11eb_b8be_5d019a3cd66brow7_col0\" class=\"data row7 col0\" >0.018</td>\n",
       "                        <td id=\"T_dc6fb820_3a95_11eb_b8be_5d019a3cd66brow7_col1\" class=\"data row7 col1\" >0.75</td>\n",
       "                        <td id=\"T_dc6fb820_3a95_11eb_b8be_5d019a3cd66brow7_col2\" class=\"data row7 col2\" >0.67</td>\n",
       "                        <td id=\"T_dc6fb820_3a95_11eb_b8be_5d019a3cd66brow7_col3\" class=\"data row7 col3\" >0.0035</td>\n",
       "                        <td id=\"T_dc6fb820_3a95_11eb_b8be_5d019a3cd66brow7_col4\" class=\"data row7 col4\" >0.00061</td>\n",
       "                        <td id=\"T_dc6fb820_3a95_11eb_b8be_5d019a3cd66brow7_col5\" class=\"data row7 col5\" >-0.0073</td>\n",
       "                        <td id=\"T_dc6fb820_3a95_11eb_b8be_5d019a3cd66brow7_col6\" class=\"data row7 col6\" >-0.25</td>\n",
       "                        <td id=\"T_dc6fb820_3a95_11eb_b8be_5d019a3cd66brow7_col7\" class=\"data row7 col7\" >1.0</td>\n",
       "                        <td id=\"T_dc6fb820_3a95_11eb_b8be_5d019a3cd66brow7_col8\" class=\"data row7 col8\" >0.59</td>\n",
       "            </tr>\n",
       "            <tr>\n",
       "                        <th id=\"T_dc6fb820_3a95_11eb_b8be_5d019a3cd66blevel0_row8\" class=\"row_heading level0 row8\" >DEALSIZE</th>\n",
       "                        <td id=\"T_dc6fb820_3a95_11eb_b8be_5d019a3cd66brow8_col0\" class=\"data row8 col0\" >0.45</td>\n",
       "                        <td id=\"T_dc6fb820_3a95_11eb_b8be_5d019a3cd66brow8_col1\" class=\"data row8 col1\" >0.69</td>\n",
       "                        <td id=\"T_dc6fb820_3a95_11eb_b8be_5d019a3cd66brow8_col2\" class=\"data row8 col2\" >0.89</td>\n",
       "                        <td id=\"T_dc6fb820_3a95_11eb_b8be_5d019a3cd66brow8_col3\" class=\"data row8 col3\" >-0.0056</td>\n",
       "                        <td id=\"T_dc6fb820_3a95_11eb_b8be_5d019a3cd66brow8_col4\" class=\"data row8 col4\" >-0.0046</td>\n",
       "                        <td id=\"T_dc6fb820_3a95_11eb_b8be_5d019a3cd66brow8_col5\" class=\"data row8 col5\" >-0.005</td>\n",
       "                        <td id=\"T_dc6fb820_3a95_11eb_b8be_5d019a3cd66brow8_col6\" class=\"data row8 col6\" >-0.15</td>\n",
       "                        <td id=\"T_dc6fb820_3a95_11eb_b8be_5d019a3cd66brow8_col7\" class=\"data row8 col7\" >0.59</td>\n",
       "                        <td id=\"T_dc6fb820_3a95_11eb_b8be_5d019a3cd66brow8_col8\" class=\"data row8 col8\" >1.0</td>\n",
       "            </tr>\n",
       "    </tbody></table>"
      ],
      "text/plain": [
       "<pandas.io.formats.style.Styler at 0x7f7f8c2fff40>"
      ]
     },
     "execution_count": 50,
     "metadata": {},
     "output_type": "execute_result"
    }
   ],
   "source": [
    "dataset.corr(method='spearman').style.format(\"{:.2}\").background_gradient(cmap=plt.get_cmap('coolwarm'), axis=1)"
   ]
  },
  {
   "cell_type": "code",
   "execution_count": null,
   "metadata": {},
   "outputs": [],
   "source": [
    "\"\"\"Percebe-se que as maiores correlações e relevantes são as seguintes: \n",
    "QUANTITYORDEREDxSALES (moderada, 0.53)\n",
    "DEALSIZExPRICEEACH (moderada, 0.69)\n",
    "PRICEEACHxSALES (forte, 0.79)\n",
    "EALSIZExSALES (forte, 0.89)\n",
    "É apresentado abaixo um gráfico de disperção relacionando o tamanho do estabecimento e a quantidade vendida.\"\"\""
   ]
  },
  {
   "cell_type": "code",
   "execution_count": 51,
   "metadata": {},
   "outputs": [
    {
     "data": {
      "image/png": "[encoded data removed]",
      "text/plain": [
       "<Figure size 432x288 with 1 Axes>"
      ]
     },
     "metadata": {
      "needs_background": "light"
     },
     "output_type": "display_data"
    }
   ],
   "source": [
    "plt.scatter(dataset[['DEALSIZE']], dataset[['SALES']])\n",
    "plt.xlabel(\"0 < 1 < 2\")\n",
    "plt.ylabel(\"unidade financeira\")\n",
    "plt.title('disperção')\n",
    "plt.show()"
   ]
  },
  {
   "cell_type": "code",
   "execution_count": null,
   "metadata": {},
   "outputs": [],
   "source": [
    "### Apresenta-se o que já era esperado, as lojas maiores vendem um volume financeiro maior"
   ]
  },
  {
   "cell_type": "code",
   "execution_count": 52,
   "metadata": {},
   "outputs": [],
   "source": [
    "dataset_small = dataset.loc[(dataset['DEALSIZE'] == 0)]\n",
    "dataset_medium = dataset.loc[(dataset['DEALSIZE'] == 1)]\n",
    "dataset_large = dataset.loc[(dataset['DEALSIZE'] == 2)]\n",
    "dataset_daily_data = dataset.sort_values('ORDERDATE')\n"
   ]
  },
  {
   "cell_type": "code",
   "execution_count": 53,
   "metadata": {},
   "outputs": [],
   "source": [
    "prod_id = list()\n",
    "for index, row in dataset_daily_data.iterrows():\n",
    "    prod_id.append(row['PRODUCTCODE'])\n",
    "prod_id = set(prod_id)"
   ]
  },
  {
   "cell_type": "code",
   "execution_count": 54,
   "metadata": {},
   "outputs": [],
   "source": [
    "dataset['TOTAL'] = None\n",
    "for id in prod_id:\n",
    "    total = []\n",
    "    last_index = None\n",
    "    for index, row in dataset_daily_data.iterrows():\n",
    "        if id == row['PRODUCTCODE']:\n",
    "            total.append(row['SALES'])\n",
    "            last_index = index\n",
    "    dataset_daily_data.loc[last_index, 'TOTAL'] = sum(total)\n",
    "    total = []"
   ]
  },
  {
   "cell_type": "code",
   "execution_count": null,
   "metadata": {},
   "outputs": [],
   "source": [
    "\"\"\"Até esse momento foi feita uma analise de correlação entre as variaveis do banco de dados \n",
    "e dividimos nossa base de dados em outras três, de acordo com o tamanho do estabelecimento. \n",
    "Com isso, iremos escolher um produto vendido em um determinado estabelecimento e aplicar \n",
    "a ele a predição com uma rede neural recorrente. \n",
    "Portanto, é a partir daqui que a previsão de demanda abordada no trabalho final acontece.\n",
    "Antes é plotado a nossa base de dados completa\"\"\""
   ]
  },
  {
   "cell_type": "code",
   "execution_count": 64,
   "metadata": {},
   "outputs": [
    {
     "data": {
      "text/html": [
       "<div>\n",
       "<style scoped>\n",
       "    .dataframe tbody tr th:only-of-type {\n",
       "        vertical-align: middle;\n",
       "    }\n",
       "\n",
       "    .dataframe tbody tr th {\n",
       "        vertical-align: top;\n",
       "    }\n",
       "\n",
       "    .dataframe thead th {\n",
       "        text-align: right;\n",
       "    }\n",
       "</style>\n",
       "<table border=\"1\" class=\"dataframe\">\n",
       "  <thead>\n",
       "    <tr style=\"text-align: right;\">\n",
       "      <th></th>\n",
       "      <th>QUANTITYORDERED</th>\n",
       "      <th>PRICEEACH</th>\n",
       "      <th>SALES</th>\n",
       "      <th>ORDERDATE</th>\n",
       "      <th>STATUS</th>\n",
       "      <th>QTR_ID</th>\n",
       "      <th>MONTH_ID</th>\n",
       "      <th>YEAR_ID</th>\n",
       "      <th>PRODUCTLINE</th>\n",
       "      <th>MSRP</th>\n",
       "      <th>PRODUCTCODE</th>\n",
       "      <th>DEALSIZE</th>\n",
       "      <th>TOTAL</th>\n",
       "    </tr>\n",
       "  </thead>\n",
       "  <tbody>\n",
       "    <tr>\n",
       "      <th>2024</th>\n",
       "      <td>49</td>\n",
       "      <td>34.47</td>\n",
       "      <td>1689.03</td>\n",
       "      <td>2003-01-06</td>\n",
       "      <td>Shipped</td>\n",
       "      <td>1</td>\n",
       "      <td>1</td>\n",
       "      <td>2003</td>\n",
       "      <td>3</td>\n",
       "      <td>41</td>\n",
       "      <td>S24_3969</td>\n",
       "      <td>0</td>\n",
       "      <td>NaN</td>\n",
       "    </tr>\n",
       "    <tr>\n",
       "      <th>578</th>\n",
       "      <td>30</td>\n",
       "      <td>100.00</td>\n",
       "      <td>5151.00</td>\n",
       "      <td>2003-01-06</td>\n",
       "      <td>Shipped</td>\n",
       "      <td>1</td>\n",
       "      <td>1</td>\n",
       "      <td>2003</td>\n",
       "      <td>3</td>\n",
       "      <td>170</td>\n",
       "      <td>S18_1749</td>\n",
       "      <td>1</td>\n",
       "      <td>NaN</td>\n",
       "    </tr>\n",
       "    <tr>\n",
       "      <th>680</th>\n",
       "      <td>50</td>\n",
       "      <td>67.80</td>\n",
       "      <td>3390.00</td>\n",
       "      <td>2003-01-06</td>\n",
       "      <td>Shipped</td>\n",
       "      <td>1</td>\n",
       "      <td>1</td>\n",
       "      <td>2003</td>\n",
       "      <td>3</td>\n",
       "      <td>60</td>\n",
       "      <td>S18_2248</td>\n",
       "      <td>1</td>\n",
       "      <td>NaN</td>\n",
       "    </tr>\n",
       "  </tbody>\n",
       "</table>\n",
       "</div>"
      ],
      "text/plain": [
       "      QUANTITYORDERED  PRICEEACH    SALES  ORDERDATE   STATUS  QTR_ID  \\\n",
       "2024               49      34.47  1689.03 2003-01-06  Shipped       1   \n",
       "578                30     100.00  5151.00 2003-01-06  Shipped       1   \n",
       "680                50      67.80  3390.00 2003-01-06  Shipped       1   \n",
       "\n",
       "      MONTH_ID  YEAR_ID  PRODUCTLINE  MSRP PRODUCTCODE  DEALSIZE  TOTAL  \n",
       "2024         1     2003            3    41    S24_3969         0    NaN  \n",
       "578          1     2003            3   170    S18_1749         1    NaN  \n",
       "680          1     2003            3    60    S18_2248         1    NaN  "
      ]
     },
     "execution_count": 64,
     "metadata": {},
     "output_type": "execute_result"
    }
   ],
   "source": [
    "dataset_daily_data.head(3)"
   ]
  },
  {
   "cell_type": "markdown",
   "metadata": {},
   "source": [
    "### Processamento"
   ]
  },
  {
   "cell_type": "code",
   "execution_count": 57,
   "metadata": {},
   "outputs": [],
   "source": [
    "#serapação do banco de dados em um só produto, cujo id é S18_3232. \n",
    "#ao rodar a célula, uma descrição do dataframe aparecerá\n",
    "is_S18_3232 = dataset['PRODUCTCODE'] == 'S18_3232'\n",
    "dataset_only_S18_3232 = dataset[is_S18_3232]\n",
    "dataset_for_process = dataset_only_S18_3232.copy()\n",
    "dataset_for_process.drop(['QUANTITYORDERED', 'PRICEEACH', 'STATUS', 'QTR_ID',\n",
    "                          'MONTH_ID', 'YEAR_ID', 'PRODUCTLINE', 'MSRP', 'PRODUCTCODE',\n",
    "                          'DEALSIZE', 'TOTAL'], axis=1, inplace=True)\n"
   ]
  },
  {
   "cell_type": "code",
   "execution_count": 58,
   "metadata": {},
   "outputs": [],
   "source": [
    "dataset_for_process.set_index('ORDERDATE', inplace=True)"
   ]
  },
  {
   "cell_type": "code",
   "execution_count": null,
   "metadata": {},
   "outputs": [],
   "source": [
    "### A seguir é plotado a base de dados para treinamente e teste para a predição das vendas do produto S18_3232"
   ]
  },
  {
   "cell_type": "code",
   "execution_count": 63,
   "metadata": {},
   "outputs": [
    {
     "data": {
      "text/html": [
       "<div>\n",
       "<style scoped>\n",
       "    .dataframe tbody tr th:only-of-type {\n",
       "        vertical-align: middle;\n",
       "    }\n",
       "\n",
       "    .dataframe tbody tr th {\n",
       "        vertical-align: top;\n",
       "    }\n",
       "\n",
       "    .dataframe thead th {\n",
       "        text-align: right;\n",
       "    }\n",
       "</style>\n",
       "<table border=\"1\" class=\"dataframe\">\n",
       "  <thead>\n",
       "    <tr style=\"text-align: right;\">\n",
       "      <th></th>\n",
       "      <th>SALES</th>\n",
       "    </tr>\n",
       "    <tr>\n",
       "      <th>ORDERDATE</th>\n",
       "      <th></th>\n",
       "    </tr>\n",
       "  </thead>\n",
       "  <tbody>\n",
       "    <tr>\n",
       "      <th>2003-01-31</th>\n",
       "      <td>4556.99</td>\n",
       "    </tr>\n",
       "    <tr>\n",
       "      <th>2003-03-10</th>\n",
       "      <td>8257.00</td>\n",
       "    </tr>\n",
       "    <tr>\n",
       "      <th>2003-04-01</th>\n",
       "      <td>8209.44</td>\n",
       "    </tr>\n",
       "  </tbody>\n",
       "</table>\n",
       "</div>"
      ],
      "text/plain": [
       "              SALES\n",
       "ORDERDATE          \n",
       "2003-01-31  4556.99\n",
       "2003-03-10  8257.00\n",
       "2003-04-01  8209.44"
      ]
     },
     "execution_count": 63,
     "metadata": {},
     "output_type": "execute_result"
    }
   ],
   "source": [
    "dataset_for_process.head(3)"
   ]
  },
  {
   "cell_type": "code",
   "execution_count": 59,
   "metadata": {},
   "outputs": [],
   "source": [
    "#criação da variavel scalar para a normalização e divião da base de dados em dados de treino e de teste\n",
    "scalar = MinMaxScaler()\n",
    "train = dataset_for_process.head(38)\n",
    "test = dataset_for_process.tail(11)\n",
    "\n",
    "train_normalizer = scalar.fit_transform(train)\n",
    "test_normalizer = scalar.fit_transform(test)"
   ]
  },
  {
   "cell_type": "code",
   "execution_count": 60,
   "metadata": {},
   "outputs": [],
   "source": [
    "def proximo_lote(dados_treino, tamanho_lote, passos):\n",
    "    np.random.seed(1)\n",
    "    random_start = np.random.randint(0, len(dados_treino) - passos)\n",
    "    #criando dados de y para serie temporal do lote\n",
    "    y_lote = np.array(dados_treino[random_start:random_start+passos+1]).reshape(1,passos+1)\n",
    "    x_lote = y_lote[:,:-1].reshape(-1, passos, 1)\n",
    "    y_lote = y_lote[:, 1:].reshape(-1, passos, 1)\n",
    "    return x_lote, y_lote\n",
    "    "
   ]
  },
  {
   "cell_type": "code",
   "execution_count": null,
   "metadata": {},
   "outputs": [],
   "source": [
    "### Criação da rede neural recorrente"
   ]
  },
  {
   "cell_type": "code",
   "execution_count": 61,
   "metadata": {},
   "outputs": [
    {
     "data": {
      "text/plain": [
       "'saver = v1.train.Saver()\\nwith v1.Session() as sess:\\n    sess.run(init)\\n    \\n    for iteration in range(num_train_iterations):\\n        \\n        X_batch, y_batch = proximo_lote(train_normalizer, batch_size,num_time_steps)\\n        sess.run(train, feed_dict={x: X_batch, y: y_batch})\\n        \\n        if iteration % 100 == 0:\\n            \\n            mse = loss.eval(feed_dict={x: X_batch, y: y_batch})\\n            print(iteration, \"\\tMSE:\", mse)\\n        saver.save(sess, \"./ex_time_series_soumil\")'"
      ]
     },
     "execution_count": 61,
     "metadata": {},
     "output_type": "execute_result"
    }
   ],
   "source": [
    "#criação do hiperparametros\n",
    "num_inputs = 1\n",
    "num_time_steps = 12\n",
    "num_neurons = 100\n",
    "num_outputs = 1\n",
    "learnig_rate = 0.01\n",
    "num_train_iterations = 4000\n",
    "batch_size = 1\n",
    "tf.compat.v1.disable_eager_execution()\n",
    "tf.compat.v1.reset_default_graph()\n",
    "x = v1.placeholder(v1.float32, [None, num_time_steps, num_inputs])\n",
    "y = v1.placeholder(v1.float32, [None, num_time_steps, num_outputs])\n",
    "\n",
    "cell = v1.nn.rnn_cell.DropoutWrapper(v1.nn.rnn_cell.GRUCell(num_units=num_neurons, activation=v1.nn.relu))\n",
    "output, state = v1.nn.dynamic_rnn(cell, x, dtype=v1.float32)\n",
    "\n",
    "loss = tf.reduce_mean(v1.square(output -y))\n",
    "opitimizer = v1.train.AdamOptimizer(learning_rate=learnig_rate)\n",
    "trainn = opitimizer.minimize(loss)\n",
    "init = v1.global_variables_initializer()\n",
    "\n",
    "\"\"\"saver = v1.train.Saver()\n",
    "with v1.Session() as sess:\n",
    "    sess.run(init)\n",
    "    \n",
    "    for iteration in range(num_train_iterations):\n",
    "        \n",
    "        X_batch, y_batch = proximo_lote(train_normalizer, batch_size,num_time_steps)\n",
    "        sess.run(train, feed_dict={x: X_batch, y: y_batch})\n",
    "        \n",
    "        if iteration % 100 == 0:\n",
    "            \n",
    "            mse = loss.eval(feed_dict={x: X_batch, y: y_batch})\n",
    "            print(iteration, \"\\tMSE:\", mse)\n",
    "        saver.save(sess, \"./ex_time_series_soumil\")\"\"\""
   ]
  }
 ],
 "metadata": {
  "kernelspec": {
   "display_name": "Python 3",
   "language": "python",
   "name": "python3"
  },
  "language_info": {
   "codemirror_mode": {
    "name": "ipython",
    "version": 3
   },
   "file_extension": ".py",
   "mimetype": "text/x-python",
   "name": "python",
   "nbconvert_exporter": "python",
   "pygments_lexer": "ipython3",
   "version": "3.8.5"
  }
 },
 "nbformat": 4,
 "nbformat_minor": 4
}
